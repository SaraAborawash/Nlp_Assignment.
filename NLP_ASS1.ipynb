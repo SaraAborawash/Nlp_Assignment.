{
  "nbformat": 4,
  "nbformat_minor": 0,
  "metadata": {
    "colab": {
      "provenance": [],
      "toc_visible": true
    },
    "kernelspec": {
      "name": "python3",
      "display_name": "Python 3"
    },
    "language_info": {
      "name": "python"
    }
  },
  "cells": [
    {
      "cell_type": "markdown",
      "source": [
        "# ***Imports***"
      ],
      "metadata": {
        "id": "QSASLEEEMCHx"
      }
    },
    {
      "cell_type": "code",
      "source": [
        "import nltk\n",
        "nltk.download('punkt')\n",
        "nltk.download('stopwords')\n",
        "nltk.download('wordnet')"
      ],
      "metadata": {
        "colab": {
          "base_uri": "https://localhost:8080/"
        },
        "id": "Aun7i77qL_HA",
        "outputId": "ae88c328-41af-441f-b089-713f8bc5fc88"
      },
      "execution_count": null,
      "outputs": [
        {
          "output_type": "stream",
          "name": "stderr",
          "text": [
            "[nltk_data] Downloading package punkt to /root/nltk_data...\n",
            "[nltk_data]   Unzipping tokenizers/punkt.zip.\n",
            "[nltk_data] Downloading package stopwords to /root/nltk_data...\n",
            "[nltk_data]   Unzipping corpora/stopwords.zip.\n",
            "[nltk_data] Downloading package wordnet to /root/nltk_data...\n"
          ]
        },
        {
          "output_type": "execute_result",
          "data": {
            "text/plain": [
              "True"
            ]
          },
          "metadata": {},
          "execution_count": 1
        }
      ]
    },
    {
      "cell_type": "code",
      "source": [
        "import requests\n",
        "from bs4 import BeautifulSoup\n",
        "from nltk.tokenize import word_tokenize\n",
        "from nltk.corpus import stopwords\n",
        "from nltk.stem import WordNetLemmatizer\n",
        "import string"
      ],
      "metadata": {
        "id": "UXvDkcYzMWoK"
      },
      "execution_count": null,
      "outputs": []
    },
    {
      "cell_type": "markdown",
      "source": [
        "# ***Extract text from HTML***"
      ],
      "metadata": {
        "id": "NEr7U2L0Mci0"
      }
    },
    {
      "cell_type": "code",
      "source": [
        "def extract_text_from_html(url):\n",
        "    response = requests.get(url)\n",
        "    soup = BeautifulSoup(response.text, 'html.parser')\n",
        "    # Extract text from paragraphs and headings\n",
        "    text = ' '.join([p.get_text() for p in soup.find_all(['p', 'h1', 'h2', 'h3', 'h4', 'h5', 'h6'])])\n",
        "    return text"
      ],
      "metadata": {
        "id": "xjbmKPGNMbz3"
      },
      "execution_count": null,
      "outputs": []
    },
    {
      "cell_type": "markdown",
      "source": [
        "# ***Text processing***"
      ],
      "metadata": {
        "id": "hjSoWYqTNAAj"
      }
    },
    {
      "cell_type": "code",
      "source": [
        "def process_text(text):\n",
        "    # Cleaning data\n",
        "    cleaned_text = text.translate(str.maketrans('', '', string.punctuation))\n",
        "    # Normalization: converting to lowercase\n",
        "    normalized_text = cleaned_text.lower()\n",
        "    # Tokenization: splitting text into words\n",
        "    tokens = word_tokenize(normalized_text)\n",
        "    # Lemmatization: converting words to their base form\n",
        "    lemmatizer = WordNetLemmatizer()\n",
        "    lemmatized_tokens = [lemmatizer.lemmatize(word) for word in tokens]\n",
        "    # Removing stop words\n",
        "    stop_words = set(stopwords.words('english'))\n",
        "    filtered_tokens = [word for word in lemmatized_tokens if word not in stop_words]\n",
        "    return filtered_tokens"
      ],
      "metadata": {
        "id": "wvaBXjzyNMnY"
      },
      "execution_count": null,
      "outputs": []
    },
    {
      "cell_type": "markdown",
      "source": [
        "# ***Getting unique words***"
      ],
      "metadata": {
        "id": "K1GXpyKFNY_-"
      }
    },
    {
      "cell_type": "code",
      "source": [
        "def get_unique_words(tokens):\n",
        "    unique_words = set(tokens)\n",
        "    return unique_words"
      ],
      "metadata": {
        "id": "JzBy6SdNN9a3"
      },
      "execution_count": null,
      "outputs": []
    },
    {
      "cell_type": "code",
      "source": [
        "# Example URL\n",
        "url = 'https://en.wikipedia.org/wiki/Python_(programming_language)'"
      ],
      "metadata": {
        "id": "6CvzDeK-ONi-"
      },
      "execution_count": null,
      "outputs": []
    },
    {
      "cell_type": "code",
      "source": [
        "html_text = extract_text_from_html(url)\n",
        "\n",
        "processed_tokens = process_text(html_text)\n",
        "\n",
        "unique_words = get_unique_words(processed_tokens)"
      ],
      "metadata": {
        "id": "5IZQw3crOU1H"
      },
      "execution_count": null,
      "outputs": []
    },
    {
      "cell_type": "markdown",
      "source": [
        "# ***Output***"
      ],
      "metadata": {
        "id": "xTje59sROxTk"
      }
    },
    {
      "cell_type": "code",
      "source": [
        "print(\"Unique Words:\")\n",
        "print(unique_words)\n",
        "print(\"Total Unique Words:\", len(unique_words))"
      ],
      "metadata": {
        "colab": {
          "base_uri": "https://localhost:8080/"
        },
        "id": "w2QcnsBoO5lo",
        "outputId": "a023ad22-c1f4-4121-b0e1-ad8b74511f39"
      },
      "execution_count": null,
      "outputs": [
        {
          "output_type": "stream",
          "name": "stdout",
          "text": [
            "Unique Words:\n",
            "{'system10', '1980s40', 'response', 'httpservercgihttprequesthandler', 'boolean', 'conference', 'replace', '3912', 'playful', 'python201', 'abc', 'internetfacing', 'significant', 'read', 'window', 'contract6768', 'c11131', 'xp', '1991', 'consistent', 'nuke', 'procedural', 'variant', 'esri', 'remainder', 'line', 'endoflife', 'routines187188', '5', 'read–eval–print', 'search', 'ajaxbased', 'amazon', 'parametric', 'documentation', 'stable', 'notable', 'however', 'select', 'condition', '37x', 'environmentsedit', '3913', 'announced', 'available', 'animation', 'communication', 'm1', 'bestowed', 'designed', 'enforced', 'several', 'potential', 'information', 'curly', 'visual', 'video', 'mime', 'indent', 'mathematics', 'news', 'project', 'sequentially', 'number', 'general', 'utility', 'pro219', 'versions—eg', 'rationale', 'freebsd', 'game', 'choice', 'calculus205', 'softimage', 'permanent', 'validity', 'december', 'arbitrary', 'openbsd', 'emphasis', 'interfacing', 'networking', 'referred', 'life', 'frequently', 'altering', 'fact', 'api', 'feature', 'unixlike', 'perls', 'vacation', 'notebook', 'highlighting', 'document', 'opposed', 'examplesedit', 'provider', 'advantage', 'involving', 'c191', 'optimization112', 'constructed', 'normal', 'studio', 'os2', 'framework', 'one—obvious', 'flowedit', 'generators96', 'made', 'programmer', 'bytecode134', 'four', 'grammar', 'metasyntactic', 'modularity', 'performance', 'library', 'unpythonic8687', 'learning', 'pythonistas189', 'modeler', 'scheme', '2017174', 'typing—in', 'often', 'syntactically', 'continuation', 'typed', '−10120', 'floatingpoint', 'coding', 'unnecessary', 'mercurial', 'functionality', 'source', 'exploit', 'included', 'case', 'execution', '35', 'respectively', 'working', 'c121', '3d', 'expected', 'high', 'ruby106', 'wrote', 'every', 'hello', 'officially', 'promotes', 'operationsedit', 'prolog', 'referencesedit', '2003', 'controversial', 'forum', 'proposing', 'problem', 'alex', 'initially', 'pypy', 'development180', 'creator', 'emulated', 'argument', 'pycharm', 'negative', 'reference', 'wa', 'implement', 'commercial', 'type', 'offside', 'written', 'block', 'objectivec', 'round25', '20', 'result', 'external', 'repl', '333128—but', 'beginneroriented', 'scribus', 'changed82', 'council170', 'delayed', 'completely', 'optional', 'world', 'implementationsedit', 'typingnamedtuple', 'semantics', 'representation', 'euroscipy', 'tracker', '198942', 'rough', 'consumption', 'tail', 'erlang241', 'poisoning57', 'behavior', 'passed', 'developed', '2021', 'native', 'arcgis220', 'unsupported', 'two', 'allows', 'metaclass', 'value', 'maintaining', 'continues', 'modwsgi', 'offer', 'executed', 'workload', 'suite', 'successor', 'fully', 'matplotlib', '316', 'manipulation125126', 'programmable', 'faster', 'ipython', 'traditional', 'linksedit', 'tcl240', 'vms138', '311', 'catch', 'principle', 'make', 'linux', 'though', 'answering', 'empirical', 'responsibility', 'pyramid', 'successfully', 'monty', 'simply', 'denote', 'printer', 'fivemember', 'artificial', 'contrast', 'manipulation', '2119', 'decisionmaker43', '2018', 'bracket', 'structural', 'capability', 'typical', 'allowing', 'forbidding', 'requiring', 'although', 'indentation', 'module', 'w', 'whitespace', '2755', 'full', 'well', 'greatest', 'foundation', 'pretty', 'priorities139', 'development', 'generatorsedit', 'pypi', 'receive', 'implementationedit', 'generating', 'input', '27', 'dcgs', 'aphorism', 'interpret', 'work', 'image', 'among', 'matching', 'top', 'resolution', 'call', 'restricted', '348', 'test', 'strength', 'idiom', 'currently', 'pythonic', 'always', '39', 'proved', 'adopted', 'machine', 'graphical', 'fixed', 'add', 'spamclass', 'released', 'dunder', 'consistency', 'generate', 'aspect', 'unofficial', 'update', 'iterators', 'organization', 'commonly', 'floor', 'without', 'namingedit', 'exponentiation', 'latest', 'kera', 'gpt3', 'matrix‑multiplication', 'autocompletion', 'related', 'modulo', 'pylon', 'informatica', 'biopython', 'structure', 'solaris', 'sole', 'knowledge', 'comprehension', 'query', 'site', 'reasoning', 'retention', 'lightwave', 'manner', 'objectoriented', 'pattern', 'keyword', 'tkinter216217', 'spaces91', 'semanticsedit', 'userdefined', 'limited', 'evolved', 'float', 'security', 'study', 'netbsd', 'indentationedit', 'might', 'support46', 'netherlands', '3', '3813', 'philosophy', 'earlier', 'extensible', 'fellow', 'go223', 'deliberately', 'large', 'dictator', 'monitor', 'compiled', 'doesnt', '2013', 'specific', 'function', 'section', 'due', '14', 'steering', 'running', 'starting', 'tribute', 'shop', 'community36373839', 'wide', 'singleboard', 'performanceedit', 'expedited', 'resigned', 'haskell', 'delimit', 'mistaking', 'particularly', 'enter', 'equation', 'pseudorandom', 'user', 'highest', 'range', 'speed', 'lab', 'beta', 'garbage', 'certainty', 'claim', 'symbol', 'binding', 'group', 'exception', 'indentation31', 'portability', 'sense', 'simple', 'gimp218', 'allowed', 'theory', 'entity', 'suitable', 'drop', 'issues59', 'integer', '3814', 'never', 'capable', 'c132133', 'borrowed', 'ides', 'script', 'accurately', 'unicode', 'effect', 'elected', 'bloat7475', 'gui', 'repository', '387778', 'access', 'similar', 'author', 'clause', 'october', 'usually', 'forwardported', 'use', 'rewriting', 'gateway', 'browserbased', 'rule76', 'developer', 'discussed', '2022', 'future', 'unrestricted', 'functools', 'violate', 'blender', 'red', 'ability', 'postponed', 'b', 'rather', 'regularly', 'c122', 'internal', 'element', 'reject', 'equality', 'imaging', 'literal', 'practice', 'example', 'according', 'mixture', 'ide', 'smaller', 'moving', 'apache', 'sdl', 'compilerstranspilers', 'rossums', 'sometimes', 'largely', 'formatting', 'noncritical', 'since', 'approach', 'paradigm', 'instagram197', 'similarites', 'extensive', 'portage', 'july', 'tensorflow', 'refers', 'team', 'protocol', 'one—and', '2to3', '12', 'java', 'subset', 'recursive', 'towards', 'nearest', 'clarity81', 'modified182', 'ubuntu', 'part', 'form', 'place', 'positive', 'main', 'leverage', 'prefix', 'special', 'kind', 'pygame', 'foundation172', 'syntax', 'best', 'time117', 'something', 'max', 'particular', 'cwi', 'signifying', 'name—a', 'intellij', '2d', 'texttotext', 'considered', 'giving', 'assignment', 'attack', 'cinema', 'widespread', 'readingedit', 'beginning', 'academic', 'extends', 'facebook196', 'spotify198', 'support', '30', 'handling', 'highlevel', 'comedy', 'cern194', 'turbogears', 'increased', 'paint', 'pygtk', 'recommended', 'intelligence', 'librariesedit', 'match', 'describe', 'app', 'class', 'process', 'ml72', 'zen', 'summarized', 'van', 'pi', '8136137', 'new', 'loop', 'represents', 'opposite', 'levels97', 'wsgi', 'constraint', 'improved', 'thus', 'contains', 'math', 'combinatorial', 'last', '10', 'punctuation', 'appear', 'execution56', 'bab', 'fun', 'expression—so', 'list', 'recent', 'operator', 'ironpython', 'change', 'remote', 'capablities', '2000', 'macos', 'decimal', 'data213214', 'ubiquity', '116', 'increase', 'program', 'use79', 'decimals123', 'evaluate', 'welldefined', 'amoeba', '313', 'usual', 'conversion107', 'body', 'desktop', 'september', 'pas', 'strongly', '16', 'lambda', 'primary', 'january', 'bind', 'sqlalchemy', 'attempting', 'numbers124', 'object', 'gained', 'modify', 'google192', 'compositor', 'distributions224', 'webserver202', 'social', 'backwardcompatible', 'much', 'disallowed', 'preview', 'mypy', 'egg', '7', 'core', '37', 'difficult', 'lie', 'conventional', 'define', 'session', 'benchmarked', 'mathrelated', 'allow', 'expressions71', 'scipy', 'earliest', 'duplicating', 'surrounding', 'permitting', 'amigaos', 'typingedit', 'help', 'firstclass', '3914', 'selected', 'rarely', 'languagesedit', '2015', '60', 'many', 'fewer', 'handled', 'bar8485a', 'providing', 'metaobjects66', 'february', '391', 'pep', '2010', 'twisted', 'unit', 'presented', 'processing212', 'pydoc', 'scorewriter', 'ten', 'software', 'aim', 'houdini', 'inkscape', 'precision', 'discussion', 'ahead', 'web', 'pyladies', 'state', 'battery', 'semantic', 'library127', 'extensions181', 'relational', '3107', 'management70', 'strive', 'concern', 'format', 'expressionsedit', 'speedcritical', 'despite', 'sagemath', 'removed', 'adding', 'modular', 'container', 'project4445', 'readable', 'commented', 'c89', 'graphviz', 'swift242', 'fedora', 'highly', 'began', 'ai', 'fails', 'statement', 'useful', 'lot', 'lead', 'processing206', 'embrace', 'sugar', 'joining', 'errors110111', 'mapper', 'u', 'shouldered', 'enjoyed', 'fork', 'june', 'logic', 'c', 'cderived', 'hat', 'programming', 'development225226', 'benevolent', '13168', 'problog207208209210211', 'understand', 'english', 'used', '4', 'finite', 'immediately', 'product', 'changed', 'called', 'allocated', '37146162', 'distributed', 'syntactic', 'astropy', 'follows', '27x', 'fraction', 'hosting', 'significantly', 'took', 'schedule', 'programming69', 'consistently', '905', 'chief', 'unintended', 'insecure', 'language', 'official', 'neologism', 'instead', 'dropped', 'metaprogramming', 'possible', 'doxygen', 'zope', 'string', 'idle', 'documenting', 'keywords', 'tiebreaking', 'style', 'nature', 'negative118', 'reddit', 'experimental', 'eggsclass', 'reflection', 'readability', 'crossplatform', 'speedup', 'suited', 'benchmark', 'it5152', 'year', 'tradition', 'newstyle108', 'popularityedit', '2019', 'term', 'collection', 'decisions170', 'meeting', 'feature228', 'structured', 'janus', 'installers', 'google', 'virtual', 'apple', 'ranked', 'instance', 'freecad', 'uncluttered', 'method', 'domainspecific', 'crosscompile', 'conform', 'ie', 'doubleunderscores', 'gentoo', 'sphinx', 'division', 'cited', 'scikitlearn', 'pycon', 'sourcesedit', 'usesedit', 'control', 'wstr', 'emit', 'phase', 'valid', 'stack', 'set', 'message', 'conditional', 'self', 'operating', 'musical', 'another', 'creating', 'qt', '1', 'lisp', 'meant', 'gnu', 'modo', 'motto', 'github', 'wsgiref', 'round05', 'effective', 'describing', 'see', 'canopy', 'active', 'management', 'fluency', 'raspberry', 'child', 'albeit', 'interpreter', 'operation', 'terminal', 'generator', 'frustration', 'collecting', 'xo', 'per', 'calculate', '2023update', 'le', 'found', 'setl41', 'release53', 'common', 'culture80', 'dalle', 'c99', 'ending', '2020', 'dictionary', 'holder', 'system', 'via', 'compact', 'signifies', 'library3233', 'reaching', 'lesscluttered', 'wikipedia', 'produce', '34950', 'database', 'standard', 'endoflife64', 'improvement', 'sourcecode', 'algebra', 'server', 'geospatial', 'avoiding', 'cpythons', 'martelli', 'python83—and', 'serve', 'differently', 'true', 'http', 'premature', 'arbitraryprecision', 'explicit', 'series', 'typing', 'text', '2022update', 'like', 'supported140', 'classmethodinstance', 'command', 'using', 'emphasizing', 'conceived', 'filtermapandreduce', 'visually', 'factorial', 'pyjs', '235', 'addition', 'stemmed', 'userprogramming', 'denialofservice', 'eg', 'computer', 'compliment', 'cover', 'relation', 'title', 'productive', 'generic', 'contain', 'definite', 'collector', 'crosscompilers', '53', 'nasa195', 'come', 'comprehensive', 'ha', 'pythonedit', 'also', 'patch', 'even', 'way', 'pythonanywhere', 'community', 'decrease', 'testing', 'material', 'featuresedit', 'developmentedit', 'termed', 'emphasizes', 'anaconda', 'tornado', 'oldstyle', 'including', 'etc', 'application', 'gtk', 'backported', 'whether', 'specialized', 'infinity', 'environment', 'represent', 'future60', 'implemented', 'distinguished', 'november', 'unlike', 'shell', 'division117', 'maintenance', 'variable', 'field', '2023', 'sketch', 'specified', '40', '1980s', 'either', 'libreoffice', 'rigidly', 'british', 'culture185', 'fail', 'tutorial', 'coroutinelike', 'aspectoriented', 'pytorch', 'marginal', 'round', 'release', 'integrated', 'attached', 'implementation', 'done', 'python227', 'platform', 'certain', 'include', 'updates54', 'numpy', 'untyped', 'union', 'methodsedit', 'influenced', '2020update190', 'later', 'rational', 'outdated', 'extensively', '4d', 'flask', 'metaprogramming65', 'calling', 'language183', 'ship', 'structure90', 'added', 'extending', '315', 'developing', 'one', 'intends', 'modern', 'alpha', 'espoused', 'science', 'abaqus', 'roundawayfromzero', 'pythondev', 'vision', '2', 'reflected', 'rise', 'dynamically', 'halfopen', 'compile', 'back', 'annotations4109', 'older', 'laptop', 'pyqt', 'semicolon', 'corresponds', 'achieve', 'component', 'expedited58', 'pdoc', 'provided', 'possibly', '2008', 'us', 'others184', 'comparison', 'functional', 'rebound', 'slightly', 'interface', 'minimalist', 'ilm199', 'current', 'processing', 'ctypes', 'already', 'releasecandidates', 'ready', 'size', '312', 'bug', 'rule', 'generalpurpose', 'regular', 'transcription', 'checked', 'thirdparty', 'oldest', 'originally', 'small', 'could', 'methodology', 'migrated', 'game169', '0', 'centrum', 'compared', 'multiple', 'instancemethodargument', 'philosophy73', 'itertools', '133333', '33', 'github173', 'doe', 'interval', 'will9495', 'debugger', 'soft', 'criticism', 'popular', 'machine135', 'includes', 'probably', 'cause', 'unary', 'arithmetic', '09034', 'round15', 'conducted', 'task', 'typeclass', 'occasionally', 'tool', 'mentoring', 'provides', 'writing', 'alsoedit', 'literature', 'expression', 'would', 'complex', 'selfhosted', 'guideline', 'manipulating', 'need', 'garbagecollected', 'implicit', 'incremented', 'prompt', 'architecture', 'building', 'games221222', 'following', 'vitriol', 'python', 'bottle', 'content', 'meaning', 'show', 'modes123', '38', 'natural', '26x47', 'major', 'parameter', 'scripting', 'mean', 'extension', 'computing130', 'dropbox', 'web2py', '3x', 'multiparadigm', 'distribution', 'moved', 'upon', 'block89', 'unidirectionally', 'bar185186', 'rossum', 'engine', 'different', '310', 'existing', 'cost', 'as73', 'optimization', 'worse', 'commitment', 'wiskunde', 'length', 'mechanism', 'diffusion215', 'mypyc', 'py', 'fix', 'first', 'django', 'historyedit', '8171', 'late', 'derived', 'issue', 'avoid', '3717', 'webcache', 'computing203204', '2007', 'precedence', 'classic', '415000129', 'spam', 'end', 'capella', 'clever', 'specifications—for', 'package', 'numerical', '2008update', 'preferably', 'separate', 'develop', 'embedded', 'array', 'rating', 'rounding', 'memory', 'scientific', 'described', 'motionbuilder', 'data', 'oftenused', 'ita200', 'covered', 'intermediate', 'book', 'bb', 'guido', 'cycledetecting', 'easily', 'final', 'simpler', 'c11', 'maya', 'connecting', 'java38', 'industry', 'deprecated', 'roundup', 'longterm', 'notation', 'compiler', 'public', 'mailing', 'three', 'leading', 'pascal88', 'idea', 'name', 'compiles', 'least', 'staticallytyped', 'proposal', 'index', 'cpython', 'rich', '125', 'time', 'justintime', 'code', 'provide', 'design', 'translation', 'plus', 'predefined', 'received', 'dynamic', 'aid', 'version', 'hosted', 'deprecationwarning', 'infix', 'opencv', 'tiobe', 'lazy', 'facilitate', 'approach40', 'texttoimage', 'combination', 'silently', 'may', 'clientside', 'installer', 'mac', 'nevertheless', 'create', 'subsequently', 'annotation', 'counting', 'reviewed', 'duck', 'enhancement', 'inspired', 'automates', 'nonnumerical', 'ab', '2718', 'twice', 'outstanding', 'ruby', 'council', 'supported', 'revision', '3104', 'natlog', 'resulting', 'install', '25', 'error', 'foo', 'reflect', 'mostly', 'better', 'various', 'determined', 'reporting63', 'rank', 'combinatorics', 'distinction', 'yahoo193'}\n",
            "Total Unique Words: 1330\n"
          ]
        }
      ]
    },
    {
      "cell_type": "code",
      "source": [
        "lis=[]\n",
        "for word in unique_words:\n",
        "  if len(word)<3:\n",
        "    lis.append(word)\n",
        "\n",
        "print(lis)"
      ],
      "metadata": {
        "id": "a8eSnsc84b3h",
        "outputId": "e8381747-858f-46b6-8144-0d51c94f98fe",
        "colab": {
          "base_uri": "https://localhost:8080/"
        }
      },
      "execution_count": null,
      "outputs": [
        {
          "output_type": "stream",
          "name": "stdout",
          "text": [
            "['xp', '5', 'm1', '35', '3d', 'wa', '20', 'w', '27', '39', '3', '14', 'b', '12', '2d', '30', 'pi', '10', '16', '7', '37', '60', 'ai', 'u', 'c', '4', 'ie', 'qt', '1', 'xo', 'le', 'eg', '53', 'ha', '40', '4d', '2', 'us', '0', '33', '38', '3x', 'py', 'bb', 'ab', '25']\n"
          ]
        }
      ]
    }
  ]
}